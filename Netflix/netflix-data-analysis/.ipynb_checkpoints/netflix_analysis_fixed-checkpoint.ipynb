{
 "cells": [
  {
   "cell_type": "markdown",
   "metadata": {},
   "source": [
    "# Netflix Data Analysis Project\n",
    "\n",
    "## Project Overview\n",
    "This project analyzes Netflix data to provide insights into content distribution, trends, and patterns.\n",
    "\n",
    "## Table of Contents\n",
    "1. Data Loading and Initial Exploration\n",
    "2. Data Cleaning and Preprocessing\n",
    "3. Feature Engineering\n",
    "4. Exploratory Data Analysis\n",
    "5. Visualization and Insights\n",
    "6. Conclusion and Recommendations"
   ]
  },
  {
   "cell_type": "code",
   "execution_count": null,
   "metadata": {},
   "source": [
    "# Import necessary libraries\n",
    "import pandas as pd\n",
    "import numpy as np\n",
    "import matplotlib.pyplot as plt\n",
    "import seaborn as sns\n",
    "import plotly.express as px\n",
    "\n",
    "# Set plotting style\n",
    "plt.style.use('default')\n",
    "sns.set_palette('husl')\n",
    "\n",
    "# Increase figure sizes\n",
    "plt.rcParams['figure.figsize'] = (12, 8)"
   ]
  },
  {
   "cell_type": "markdown",
   "metadata": {},
   "source": [
    "## 1. Data Loading and Initial Exploration"
   ]
  },
  {
   "cell_type": "code",
   "execution_count": null,
   "metadata": {},
   "source": [
    "# Load the Netflix dataset\n",
    "df = pd.read_csv('netflix_titles.csv')\n",
    "\n",
    "# Display basic information about the dataset\n",
    "print('Dataset shape:', df.shape)\n",
    "print('\nBasic statistics:\n', df.describe())\n",
    "print('\nMissing values:\n', df.isnull().sum())\n",
    "\n",
    "# Display first few rows\n",
    "display(df.head())"
   ]
  },
  {
   "cell_type": "markdown",
   "metadata": {},
   "source": [
    "## 2. Data Cleaning and Preprocessing"
   ]
  },
  {
   "cell_type": "code",
   "execution_count": null,
   "metadata": {},
   "source": [
    "# Handle missing values\n",
    "# For categorical columns, we'll fill with 'Unknown'\n",
    "categorical_cols = ['director', 'cast', 'country', 'rating']\n",
    "for col in categorical_cols:\n",
    "    df[col] = df[col].fillna('Unknown')\n",
    "\n",
    "# For date_added, we'll fill with the release_year\n",
    "df['date_added'] = pd.to_datetime(df['date_added'], format='mixed', errors='coerce')\n",
    "df['date_added'] = df['date_added'].fillna(pd.to_datetime(df['release_year'], format='%Y'))\n",
    "\n",
    "# Convert duration to numeric\n",
    "df['duration'] = df['duration'].str.replace(' min', '').str.replace(' Season', '').str.replace('s', '')\n",
    "df['duration'] = pd.to_numeric(df['duration'], errors='coerce')\n",
    "\n",
    "# Create year and month columns from date_added\n",
    "df['year_added'] = df['date_added'].dt.year\n",
    "df['month_added'] = df['date_added'].dt.month"
   ]
  },
  {
   "cell_type": "markdown",
   "metadata": {},
   "source": [
    "## 3. Feature Engineering"
   ]
  },
  {
   "cell_type": "code",
   "execution_count": null,
   "metadata": {},
   "source": [
    "# Create new features\n",
    "# 1. Content age\n",
    "df['content_age'] = df['year_added'] - df['release_year']\n",
    "\n",
    "# 2. Content type category\n",
    "df['content_type'] = df['type'].map({'Movie': 'Movie', 'TV Show': 'TV Show'})\n",
    "\n",
    "# 3. Genre count\n",
    "def count_genres(listed_in):\n",
    "    return len(str(listed_in).split(',')) if pd.notna(listed_in) else 0\n",
    "df['genre_count'] = df['listed_in'].apply(count_genres)\n",
    "\n",
    "# 4. Cast size\n",
    "def count_cast(cast):\n",
    "    return len(str(cast).split(',')) if pd.notna(cast) else 0\n",
    "df['cast_size'] = df['cast'].apply(count_cast)"
   ]
  },
  {
   "cell_type": "markdown",
   "metadata": {},
   "source": [
    "## 4. Exploratory Data Analysis"
   ]
  },
  {
   "cell_type": "code",
   "execution_count": null,
   "metadata": {},
   "source": [
    "# Content Type Distribution\n",
    "plt.figure(figsize=(10, 6))\n",
    "sns.countplot(data=df, x='content_type')\n",
    "plt.title('Distribution of Content Types')\n",
    "plt.xlabel('Content Type')\n",
    "plt.ylabel('Count')\n",
    "plt.show()\n",
    "\n",
    "# Yearly Content Addition\n",
    "plt.figure(figsize=(12, 6))\n",
    "sns.countplot(data=df, x='year_added', order=df['year_added'].value_counts().index)\n",
    "plt.title('Content Added by Year')\n",
    "plt.xticks(rotation=45)\n",
    "plt.show()\n",
    "\n",
    "# Top Countries\n",
    "top_countries = df['country'].value_counts().head(10)\n",
    "plt.figure(figsize=(12, 6))\n",
    "sns.barplot(x=top_countries.values, y=top_countries.index)\n",
    "plt.title('Top 10 Countries with Most Content')\n",
    "plt.xlabel('Number of Content')\n",
    "plt.ylabel('Country')\n",
    "plt.show()\n",
    "\n",
    "# Content Type Distribution by Year\n",
    "plt.figure(figsize=(15, 6))\n",
    "sns.countplot(data=df, x='year_added', hue='content_type', palette='husl')\n",
    "plt.title('Content Type Distribution Over Years')\n",
    "plt.xlabel('Year Added')\n",
    "plt.ylabel('Count')\n",
    "plt.xticks(rotation=45)\n",
    "plt.legend(title='Content Type')\n",
    "plt.show()\n",
    "\n",
    "# Genre distribution\n",
    "genres = df['listed_in'].str.split(',').explode()\n",
    "genre_counts = genres.value_counts().head(15)\n",
    "\n",
    "plt.figure(figsize=(12, 8))\n",
    "sns.barplot(x=genre_counts.values, y=genre_counts.index)\n",
    "plt.title('Top 15 Genres in Netflix Content')\n",
    "plt.xlabel('Number of Content')\n",
    "plt.ylabel('Genre')\n",
    "plt.show()"
   ]
  },
  {
   "cell_type": "markdown",
   "metadata": {},
   "source": [
    "## 5. Conclusion and Recommendations\n",
    "\n",
    "Based on the analysis:\n",
    "1. Netflix has shown a steady increase in content addition over the years\n",
    "2. There's a significant difference in content distribution between movies and TV shows\n",
    "3. Certain countries dominate the content production\n",
    "4. Specific genres are more popular than others\n",
    "\n",
    "Recommendations:\n",
    "1. Continue diversifying content across different regions\n",
    "2. Maintain balance between movies and TV shows\n",
    "3. Explore emerging genres and trends\n",
    "4. Focus on quality content production"
   ]
  }
 ],
 "metadata": {
  "kernelspec": {
   "display_name": "Python 3",
   "language": "python",
   "name": "python3"
  },
  "language_info": {
   "codemirror_mode": {
    "name": "ipython",
    "version": 3
   },
   "file_extension": ".py",
   "mimetype": "text/x-python",
   "name": "python",
   "nbconvert_exporter": "python",
   "pygments_lexer": "ipython3",
   "version": "3.8.0"
  }
 },
 "nbformat": 4,
 "nbformat_minor": 4
}
